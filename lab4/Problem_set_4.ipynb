{
 "cells": [
  {
   "cell_type": "markdown",
   "metadata": {},
   "source": [
    "# Mining Massive Datasets: Solutions to Problem Set 4\n",
    "\n",
    "Duc Anh, Phi 3550091\n",
    "\n",
    "Mustafa, Ibrahim 3284705\n",
    "\n",
    "Amritpal, Kaur 3532964\n",
    "\n",
    "## Exercise 1\n",
    "\n",
    "### a)\n",
    "\n",
    "System G would suggest a list of the most popular movies, which are on the far left of the long tail. System R would suggest more user-specific movies which probably occur in the middle of the long tail. System L gives user-specific recommendations and could introduce users to moroe exotic items from the long tail (far right).\n",
    "\n",
    "### b)\n",
    "\n",
    "System L would be most robust against this attempt as it recommends movies only to users which share similar taste. Assuming most users are different from the fake accounts (as they have a specific taste), their recommendations should not be affected. System G's users' recommendation lists would be affected most. It recommends movies based on their average rating - which is rather high for movie X. Even if users have a negative bias, they should get recommendations for movie X.\n",
    "\n",
    "### c)\n",
    "\n",
    "It is more difficult for the gray sheeps to get good recommendations from the the R and L systems as their taste do not align with any group of people consistently. The G system might perform best in this scenario, as the movies are more appealing to a broader audience. Black sheeps benefit from systems R and L - especially L as its recommendations are taylored to the users' specific taste. It is not ambigious for the systems R and L to assign black sheeps into distinct groups of similar tastes."
   ]
  }
 ],
 "metadata": {
  "kernelspec": {
   "display_name": "Python 3",
   "language": "python",
   "name": "python3"
  },
  "language_info": {
   "codemirror_mode": {
    "name": "ipython",
    "version": 3
   },
   "file_extension": ".py",
   "mimetype": "text/x-python",
   "name": "python",
   "nbconvert_exporter": "python",
   "pygments_lexer": "ipython3",
   "version": "3.7.4"
  }
 },
 "nbformat": 4,
 "nbformat_minor": 2
}
