{
 "cells": [
  {
   "cell_type": "markdown",
   "metadata": {},
   "source": [
    "# Mining Massive Datasets: Solutions to Problem Set 3\n",
    "\n",
    "Duc Anh, Phi 3550091\n",
    "\n",
    "Mustafa, Ibrahim 3284705\n",
    "\n",
    "Amritpal, Kaur 3532964\n",
    "\n",
    "## Exercise 1\n",
    "\n",
    "### a)\n"
   ]
  },
  {
   "cell_type": "code",
   "execution_count": 118,
   "metadata": {},
   "outputs": [
    {
     "name": "stdout",
     "output_type": "stream",
     "text": [
      "predicted rating for item e:  5.140960958442029\n"
     ]
    }
   ],
   "source": [
    "import numpy as np\n",
    "\n",
    "util_matrix = np.array([[4,5,0,5,1,0,3,2], [0,3,4,3,1,2,1,0],[2,0,1,3,0,4,5,3],[1,0,1,0,4,0,4,2]])\n",
    "\n",
    "def avg_without_blank(x):\n",
    "    n = np.count_nonzero(x)\n",
    "    return np.sum(x)/n\n",
    "\n",
    "def pearson_sim(x,y):\n",
    "    x_b = x.astype(bool).astype(int)\n",
    "    y_b = y.astype(bool).astype(int)\n",
    "    indeces = np.nonzero(np.bitwise_and(x_b, y_b))\n",
    "    x_centered = x-avg_without_blank(x)\n",
    "    y_centered = y-avg_without_blank(y)\n",
    "    x_reduced = x_centered[indeces]\n",
    "    y_reduced = y_centered[indeces]\n",
    "    \n",
    "    res = np.dot(x_reduced, y_reduced) / (np.linalg.norm(x_reduced)*np.linalg.norm(y_reduced))\n",
    "    return res\n",
    "\n",
    "def rating(util_matrix, N, item, user):\n",
    "    similarities = []\n",
    "    for i in range(util_matrix.shape[0]):\n",
    "        if i != user:\n",
    "            similarities.append(pearson_sim(util_matrix[user], util_matrix[i]))\n",
    "        else:\n",
    "            similarities.append(-2)\n",
    "    \n",
    "    similarities = np.array(similarities)\n",
    "    \n",
    "    most_similar = similarities.argsort()[::-1][:N]\n",
    "    \n",
    "    numer = 0\n",
    "    denom = 0\n",
    "    for i in range(N):\n",
    "        sim_user_i = similarities[most_similar[i]]\n",
    "        numer += sim_user_i*util_matrix[most_similar[i]][item]\n",
    "        denom += sim_user_i\n",
    "    rating = numer/denom\n",
    "    return rating\n",
    "\n",
    "N = 2\n",
    "item = 4\n",
    "user = 2\n",
    "\n",
    "print(\"predicted rating for item e: \", rating(util_matrix, N, item, user))"
   ]
  },
  {
   "cell_type": "markdown",
   "metadata": {},
   "source": [
    "### b)"
   ]
  },
  {
   "cell_type": "code",
   "execution_count": 2,
   "metadata": {},
   "outputs": [
    {
     "name": "stdout",
     "output_type": "stream",
     "text": [
      "predicted rating for item e:  4.406435469853564\n"
     ]
    }
   ],
   "source": [
    "util_matrix = util_matrix.T\n",
    "N = 2\n",
    "item = 2\n",
    "user = 4\n",
    "\n",
    "print(\"predicted rating for item e: \", rating(util_matrix, N, item, user))"
   ]
  },
  {
   "cell_type": "markdown",
   "metadata": {},
   "source": [
    "## Exercise 2"
   ]
  },
  {
   "cell_type": "markdown",
   "metadata": {},
   "source": [
    "We first implement the Stochastic Gradient Descent (SGD) method:"
   ]
  },
  {
   "cell_type": "code",
   "execution_count": 3,
   "metadata": {},
   "outputs": [],
   "source": [
    "def gradient_Q_i(d, x_i, y_i, w):\n",
    "    res = np.zeros(d)\n",
    "    for k in range(d):\n",
    "        for j in range(d):\n",
    "            res[k] += w[j]*(x_i**j)\n",
    "        res[k] = 2*(res[k]-y_i)*(x_i**k)\n",
    "    return res\n",
    "\n",
    "def Q_i(d, x_i, y_i, w):\n",
    "    res = 0\n",
    "    for j in range(d):\n",
    "        res += w[j]*(x_i**j)\n",
    "    res = (res-y_i)**2\n",
    "    return res\n",
    "        \n",
    "def Q(d, points, w):\n",
    "    res = 0\n",
    "    for point in points:\n",
    "        res += Q_i(d, point[0], point[1], w)\n",
    "    return res\n",
    "\n",
    "def SGD(d, points, alpha=0.00001, eps=0.1):\n",
    "    w = np.random.rand(d)\n",
    "    while True:\n",
    "        err_before = Q(d, points, w)\n",
    "        for point in points:\n",
    "            w = w - alpha*gradient_Q_i(d, point[0], point[1], w)\n",
    "        err_after = Q(d, points, w)\n",
    "        if np.abs(err_before - err_after) < eps:\n",
    "            break\n",
    "    return w\n"
   ]
  },
  {
   "cell_type": "markdown",
   "metadata": {},
   "source": [
    "Then we define some polynomial, construct slightly perturbed points and run the SGD function on those points:"
   ]
  },
  {
   "cell_type": "code",
   "execution_count": 4,
   "metadata": {},
   "outputs": [
    {
     "name": "stdout",
     "output_type": "stream",
     "text": [
      "[-0.94505448 -1.94480143  0.99607806  0.4955918 ]\n"
     ]
    }
   ],
   "source": [
    "def poly(x):\n",
    "    return -1-2*x+x**2+0.5*(x**3)\n",
    "\n",
    "new_points = []\n",
    "\n",
    "x_points = np.linspace(-5, 5, 1000)\n",
    "y_points = poly(x_points)\n",
    "\n",
    "for i in range(x_points.shape[0]):\n",
    "    perturbation = np.random.rand()*2-1\n",
    "    new_points.append((x_points[i], y_points[i]+perturbation))\n",
    "\n",
    "\n",
    "print(SGD(4, new_points))"
   ]
  },
  {
   "cell_type": "markdown",
   "metadata": {},
   "source": [
    "The resulting polynomial is within a 0.6 range of the original polynomial."
   ]
  },
  {
   "cell_type": "markdown",
   "metadata": {},
   "source": [
    "## Exercise 3\n",
    "### a)"
   ]
  },
  {
   "cell_type": "code",
   "execution_count": 26,
   "metadata": {},
   "outputs": [],
   "source": [
    "import findspark\n",
    "findspark.init('/usr/local/spark')\n",
    "\n",
    "from pyspark.sql import SparkSession\n",
    "from pyspark.sql import Row\n",
    "from pyspark.sql import functions as F\n",
    "from pyspark.sql.types import *\n",
    "from pyspark.mllib.recommendation import Rating\n",
    "from pyspark.mllib.recommendation import ALS\n",
    "\n",
    "spark = SparkSession.builder.master('local').appName('lab3').getOrCreate()\n",
    "sc = spark.sparkContext"
   ]
  },
  {
   "cell_type": "code",
   "execution_count": 103,
   "metadata": {},
   "outputs": [
    {
     "name": "stdout",
     "output_type": "stream",
     "text": [
      "100000\n"
     ]
    },
    {
     "data": {
      "text/plain": [
       "[Rating(user=196, product=242, rating=3.0),\n",
       " Rating(user=186, product=302, rating=3.0)]"
      ]
     },
     "execution_count": 103,
     "metadata": {},
     "output_type": "execute_result"
    }
   ],
   "source": [
    "# read the data and convert each row into into Rating object\n",
    "origRDD = sc.textFile('movielens.txt') \\\n",
    "    .map(lambda line: line.split('\\t')) \\\n",
    "    .map(lambda line: Rating(int(line[0]), int(line[1]), float(line[2])))\n",
    "\n",
    "print(origRDD.count())\n",
    "origRDD.take(2)"
   ]
  },
  {
   "cell_type": "code",
   "execution_count": 114,
   "metadata": {},
   "outputs": [
    {
     "name": "stdout",
     "output_type": "stream",
     "text": [
      "50233 49767\n"
     ]
    }
   ],
   "source": [
    "# split rdd into training and test set\n",
    "train, test = origRDD.randomSplit(weights=[0.5,0.5], seed=1)\n",
    "\n",
    "print(train.count(), test.count())"
   ]
  },
  {
   "cell_type": "markdown",
   "metadata": {},
   "source": [
    "### b)"
   ]
  },
  {
   "cell_type": "code",
   "execution_count": 105,
   "metadata": {},
   "outputs": [],
   "source": [
    "# initialize model using Alternating Least Squares\n",
    "model = ALS.train(train, rank=10, iterations=5, seed=1)\n",
    "\n",
    "# Save model\n",
    "model.save(sc, \"./model\")\n",
    "#model.load(sc, \"./model\")"
   ]
  },
  {
   "cell_type": "markdown",
   "metadata": {},
   "source": [
    "### c)"
   ]
  },
  {
   "cell_type": "code",
   "execution_count": 115,
   "metadata": {},
   "outputs": [
    {
     "name": "stdout",
     "output_type": "stream",
     "text": [
      "MSE = 1.4375736550764933\n"
     ]
    }
   ],
   "source": [
    "# calculate MSE on test data\n",
    "test_x = test.map(lambda r: (r.user, r.product))\n",
    "predictions = model.predictAll(test_x).map(lambda p: ((p.user, p.product), p.rating))\n",
    "test = test.map(lambda t: ((t.user, t.product), t.rating))\n",
    "testAndPreds = test.join(predictions)\n",
    "MSE = testAndPreds.map(lambda r: (r[1][0] - r[1][1])**2).mean()\n",
    "print(\"MSE = \" + str(MSE))"
   ]
  },
  {
   "cell_type": "markdown",
   "metadata": {},
   "source": [
    "## Exercise 4\n",
    "### a) We obtain matrices Q and P which are different than the ones shown in the lecture slides."
   ]
  },
  {
   "cell_type": "code",
   "execution_count": 123,
   "metadata": {},
   "outputs": [],
   "source": [
    "def matrix_factorization(R, P, Q, K, steps=5000, alpha=0.0002, beta=0.02):\n",
    "    Q = Q.T\n",
    "    for step in range(steps):\n",
    "        for i in range(len(R)):\n",
    "            for j in range(len(R[i])):\n",
    "                if R[i][j] > 0:\n",
    "                    eij = R[i][j] - np.dot(P[i,:],Q[:,j])\n",
    "                    for k in range(K):\n",
    "                        P[i][k] = P[i][k] + alpha * (2 * eij * Q[k][j] - beta * P[i][k])\n",
    "                        Q[k][j] = Q[k][j] + alpha * (2 * eij * P[i][k] - beta * Q[k][j])\n",
    "        eR = np.dot(P,Q)\n",
    "        e = 0\n",
    "        for i in range(len(R)):\n",
    "            for j in range(len(R[i])):\n",
    "                if R[i][j] > 0:\n",
    "                    e = e + pow(R[i][j] - np.dot(P[i,:],Q[:,j]), 2)\n",
    "                    for k in range(K):\n",
    "                        e = e + (beta/2) * (pow(P[i][k],2) + pow(Q[k][j],2))\n",
    "        if e < 0.001:\n",
    "            break\n",
    "    return P, Q.T"
   ]
  },
  {
   "cell_type": "code",
   "execution_count": 129,
   "metadata": {},
   "outputs": [
    {
     "name": "stdout",
     "output_type": "stream",
     "text": [
      "P:\n",
      " [[0.11091278 0.71187049 0.13253212]\n",
      " [0.74889095 0.62450055 0.65353997]\n",
      " [0.89350557 0.90236574 0.19572736]\n",
      " [0.35155659 0.28857588 0.26951684]\n",
      " [0.13318358 0.45216833 0.26750008]\n",
      " [0.55252758 0.86014777 0.45219843]]\n",
      "Q:\n",
      " [[0.60205859 0.25340645 0.33229609]\n",
      " [0.679091   0.83551635 0.97218061]\n",
      " [0.64639839 0.98420992 0.35682105]\n",
      " [0.95718489 0.62118018 0.62415752]\n",
      " [0.29522846 0.32280151 0.06110953]\n",
      " [0.43529063 0.04873488 0.01132382]\n",
      " [0.81936809 0.44500954 0.41842173]\n",
      " [0.32085809 0.73527198 0.7892446 ]\n",
      " [0.57892183 0.763422   0.47307164]\n",
      " [0.70572096 0.32128762 0.26335349]\n",
      " [0.38584615 0.67623224 0.1351337 ]\n",
      " [0.7545471  0.80204344 0.78217028]]\n",
      "nR:\n",
      " [[1.03336266 3.46613297 3.03882362 1.69475045 3.39411684 4.85067286\n",
      "  3.22608792 2.42373919 4.8941546  2.6737914  4.20413884 5.36542442]\n",
      " [1.37603079 1.49791081 4.90137375 3.97934499 4.01739445 1.11277354\n",
      "  3.98070984 3.30404062 3.32860905 1.9837758  1.00944692 3.08697296]\n",
      " [1.8260123  3.99374808 2.65568802 0.99543735 1.99190334 5.72616391\n",
      "  2.99822468 1.00282501 4.07318081 3.00289172 4.88138984 3.84924405]\n",
      " [0.56403406 1.99639668 4.22949771 3.37092234 4.75573171 2.18893703\n",
      "  3.73144797 3.94662028 4.66611927 2.01987358 1.98417668 5.31701606]\n",
      " [0.55717778 1.90456083 3.81697033 3.00163851 4.26550692 2.13961513\n",
      "  3.39300964 3.51675509 4.26457713 1.88701612 1.92842058 4.83548586]\n",
      " [1.16008584 3.26746399 2.92122884 1.61032209 2.97562165 4.53815578\n",
      "  3.06005193 2.06819916 4.37616971 2.5571186  3.91976295 4.63860579]]\n"
     ]
    }
   ],
   "source": [
    "utMat = np.array([\n",
    "    [1,0,3,0,0,5,0,0,5,0,4,0],\n",
    "    [0,0,5,4,0,0,4,0,0,2,1,3],\n",
    "    [2,4,0,1,2,0,3,0,4,3,5,0],\n",
    "    [0,2,4,0,5,0,0,4,0,0,2,0],\n",
    "    [0,0,4,3,4,2,0,0,0,0,2,5],\n",
    "    [1,0,3,0,3,0,0,2,0,0,4,0]\n",
    "])\n",
    "\n",
    "N = len(utMat)\n",
    "M = len(utMat[0])\n",
    "K = 3\n",
    "\n",
    "P = np.random.rand(N,K)\n",
    "print('P:\\n', P)\n",
    "Q = np.random.rand(M,K)\n",
    "print('Q:\\n', Q)\n",
    "\n",
    "nP, nQ = matrix_factorization(utMat, P, Q, K)\n",
    "nR = np.dot(nP, nQ.T)\n",
    "print('nR:\\n', nR)\n"
   ]
  },
  {
   "cell_type": "markdown",
   "metadata": {},
   "source": [
    "### b)"
   ]
  },
  {
   "cell_type": "code",
   "execution_count": 152,
   "metadata": {},
   "outputs": [],
   "source": [
    "import matplotlib.pyplot as plt\n",
    "\n",
    "def matrix_factorization_with_plot(R, P, Q, K, steps=5000, alpha=0.0002, beta=0.02):\n",
    "    Q = Q.T\n",
    "    errors = []\n",
    "    differences = []\n",
    "    for step in range(steps):\n",
    "        for i in range(len(R)):\n",
    "            for j in range(len(R[i])):\n",
    "                if R[i][j] > 0:\n",
    "                    eij = R[i][j] - np.dot(P[i,:],Q[:,j])\n",
    "                    for k in range(K):\n",
    "                        P[i][k] = P[i][k] + alpha * (2 * eij * Q[k][j] - beta * P[i][k])\n",
    "                        Q[k][j] = Q[k][j] + alpha * (2 * eij * P[i][k] - beta * Q[k][j])\n",
    "        eR = np.dot(P,Q)\n",
    "        e = 0\n",
    "        for i in range(len(R)):\n",
    "            for j in range(len(R[i])):\n",
    "                if R[i][j] > 0:\n",
    "                    e = e + pow(R[i][j] - np.dot(P[i,:],Q[:,j]), 2)\n",
    "                    for k in range(K):\n",
    "                        e = e + (beta/2) * (pow(P[i][k],2) + pow(Q[k][j],2))\n",
    "        if len(errors) != 0:\n",
    "            differences.append(abs(errors[-1]-e))\n",
    "        errors.append(e)\n",
    "        if e < 0.001:\n",
    "            break\n",
    "    plt.subplot(2, 1, 1)\n",
    "    plt.plot(list(range(steps)), errors)\n",
    "    plt.ylabel('error')\n",
    "    plt.subplot(2, 1, 2)\n",
    "    plt.plot(list(range(steps-1)), differences)\n",
    "    plt.ylabel('difference error before')\n",
    "    plt.show()\n",
    "    return P, Q.T"
   ]
  },
  {
   "cell_type": "code",
   "execution_count": 154,
   "metadata": {},
   "outputs": [
    {
     "name": "stdout",
     "output_type": "stream",
     "text": [
      "P:\n",
      " [[0.22642931 0.67448611 0.44001186]\n",
      " [0.14925628 0.34808513 0.24444293]\n",
      " [0.21868805 0.52986565 0.05052148]\n",
      " [0.00915797 0.12885622 0.61281987]\n",
      " [0.17574621 0.13567063 0.29343531]\n",
      " [0.74733315 0.63551954 0.59584297]]\n",
      "Q:\n",
      " [[0.84964655 0.26813977 0.99957255]\n",
      " [0.10468699 0.47921636 0.88143357]\n",
      " [0.23559947 0.68479059 0.19724185]\n",
      " [0.80911098 0.04915773 0.91992623]\n",
      " [0.55063384 0.07879401 0.53125698]\n",
      " [0.40068894 0.15271958 0.44982443]\n",
      " [0.07431749 0.34557593 0.92763637]\n",
      " [0.97735277 0.35414112 0.96274472]\n",
      " [0.61164541 0.75065809 0.65673211]\n",
      " [0.44531364 0.2310256  0.35213048]\n",
      " [0.27851147 0.40979924 0.54753489]\n",
      " [0.81527023 0.92120033 0.34687503]]\n",
      "4999\n"
     ]
    },
    {
     "data": {
      "image/png": "[encoded data removed]",
      "text/plain": [
       "<Figure size 432x288 with 2 Axes>"
      ]
     },
     "metadata": {
      "needs_background": "light"
     },
     "output_type": "display_data"
    },
    {
     "name": "stdout",
     "output_type": "stream",
     "text": [
      "nR:\n",
      " [[1.38594229 3.57081048 3.12344882 2.02600901 3.30334452 4.8845462\n",
      "  3.46069018 2.36638294 4.72076723 3.03933387 4.1993816  4.97877167]\n",
      " [0.91211488 1.69205221 4.8278369  4.01884142 5.51800517 2.64389003\n",
      "  4.00971619 4.56406536 4.22764205 2.00049742 0.99994896 3.04809494]\n",
      " [1.47805436 3.99884893 2.01489383 0.95767844 2.00262404 5.36822063\n",
      "  2.97723716 1.20463296 4.22769592 2.98534472 4.8576183  4.62073404]\n",
      " [0.92414489 2.00109706 4.31650573 3.42593806 4.81402013 2.93536059\n",
      "  3.56881425 3.8666977  4.39020006 2.34284006 1.94488638 4.12056841]\n",
      " [0.61334954 1.44976164 3.81460497 2.98848719 4.14860436 2.07192336\n",
      "  2.6513541  3.28705488 4.08140411 2.28494503 1.99372903 4.93138233]\n",
      " [1.18112242 3.12369246 2.85771426 1.84114764 2.9810886  4.23926679\n",
      "  2.95787867 2.11583102 4.3892357  2.85744763 3.93278786 5.059781  ]]\n"
     ]
    }
   ],
   "source": [
    "utMat = np.array([\n",
    "    [1,0,3,0,0,5,0,0,5,0,4,0],\n",
    "    [0,0,5,4,0,0,4,0,0,2,1,3],\n",
    "    [2,4,0,1,2,0,3,0,4,3,5,0],\n",
    "    [0,2,4,0,5,0,0,4,0,0,2,0],\n",
    "    [0,0,4,3,4,2,0,0,0,0,2,5],\n",
    "    [1,0,3,0,3,0,0,2,0,0,4,0]\n",
    "])\n",
    "\n",
    "N = len(utMat)\n",
    "M = len(utMat[0])\n",
    "K = 3\n",
    "\n",
    "P = np.random.rand(N,K)\n",
    "print('P:\\n', P)\n",
    "Q = np.random.rand(M,K)\n",
    "print('Q:\\n', Q)\n",
    "\n",
    "nP, nQ = matrix_factorization_with_plot(utMat, P, Q, K)\n",
    "nR = np.dot(nP, nQ.T)\n",
    "print('nR:\\n', nR)"
   ]
  }
 ],
 "metadata": {
  "kernelspec": {
   "display_name": "Python 3",
   "language": "python",
   "name": "python3"
  },
  "language_info": {
   "codemirror_mode": {
    "name": "ipython",
    "version": 3
   },
   "file_extension": ".py",
   "mimetype": "text/x-python",
   "name": "python",
   "nbconvert_exporter": "python",
   "pygments_lexer": "ipython3",
   "version": "3.7.4"
  }
 },
 "nbformat": 4,
 "nbformat_minor": 2
}
