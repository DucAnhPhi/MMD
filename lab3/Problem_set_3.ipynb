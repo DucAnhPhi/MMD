{
 "cells": [
  {
   "cell_type": "markdown",
   "metadata": {},
   "source": [
    "# Mining Massive Datasets: Solutions to Problem Set 3\n",
    "\n",
    "Duc Anh, Phi 3550091\n",
    "\n",
    "Mustafa, Ibrahim 3284705\n",
    "\n",
    "Amritpal, Kaur 3532964\n",
    "\n",
    "## Exercise 1\n",
    "\n",
    "### a)\n"
   ]
  },
  {
   "cell_type": "code",
   "execution_count": 1,
   "metadata": {},
   "outputs": [
    {
     "name": "stdout",
     "output_type": "stream",
     "text": [
      "predicted rating for item e:  5.140960958442029\n"
     ]
    }
   ],
   "source": [
    "import numpy as np\n",
    "\n",
    "util_matrix = np.array([[4,5,0,5,1,0,3,2], [0,3,4,3,1,2,1,0],[2,0,1,3,0,4,5,3],[1,0,1,0,4,0,4,2]])\n",
    "\n",
    "def avg_without_blank(x):\n",
    "    n = np.count_nonzero(x)\n",
    "    return np.sum(x)/n\n",
    "\n",
    "def pearson_sim(x,y):\n",
    "    x_b = x.astype(bool).astype(int)\n",
    "    y_b = y.astype(bool).astype(int)\n",
    "    indeces = np.nonzero(np.bitwise_and(x_b, y_b))\n",
    "    x_centered = x-avg_without_blank(x)\n",
    "    y_centered = y-avg_without_blank(y)\n",
    "    x_reduced = x_centered[indeces]\n",
    "    y_reduced = y_centered[indeces]\n",
    "    \n",
    "    res = np.dot(x_reduced, y_reduced) / (np.linalg.norm(x_reduced)*np.linalg.norm(y_reduced))\n",
    "    return res\n",
    "\n",
    "def rating(util_matrix, N, item, user):\n",
    "    similarities = []\n",
    "    for i in range(util_matrix.shape[0]):\n",
    "        if i != user:\n",
    "            similarities.append(pearson_sim(util_matrix[user], util_matrix[i]))\n",
    "        else:\n",
    "            similarities.append(-2)\n",
    "    similarities = np.array(similarities)\n",
    "    \n",
    "    most_similar = similarities.argsort()[::-1][:N] \n",
    "    \n",
    "    numer = 0\n",
    "    denom = 0\n",
    "    for i in range(N):\n",
    "        sim_user_i = similarities[most_similar[i]]\n",
    "        numer += sim_user_i*util_matrix[most_similar[i]][item]\n",
    "        denom += sim_user_i\n",
    "    rating = numer/denom\n",
    "    return rating\n",
    "\n",
    "N = 2\n",
    "item = 4\n",
    "user = 2\n",
    "\n",
    "print(\"predicted rating for item e: \", rating(util_matrix, N, item, user))"
   ]
  },
  {
   "cell_type": "markdown",
   "metadata": {},
   "source": [
    "### b)"
   ]
  },
  {
   "cell_type": "code",
   "execution_count": 2,
   "metadata": {},
   "outputs": [
    {
     "name": "stdout",
     "output_type": "stream",
     "text": [
      "predicted rating for item e:  4.406435469853564\n"
     ]
    }
   ],
   "source": [
    "util_matrix = util_matrix.T\n",
    "N = 2\n",
    "item = 2\n",
    "user = 4\n",
    "\n",
    "print(\"predicted rating for item e: \", rating(util_matrix, N, item, user))"
   ]
  },
  {
   "cell_type": "markdown",
   "metadata": {},
   "source": [
    "## Exercise 2"
   ]
  },
  {
   "cell_type": "markdown",
   "metadata": {},
   "source": [
    "We first implement the Stochastic Gradient Descent (SGD) method:"
   ]
  },
  {
   "cell_type": "code",
   "execution_count": 3,
   "metadata": {},
   "outputs": [],
   "source": [
    "def gradient_Q_i(d, x_i, y_i, w):\n",
    "    res = np.zeros(d)\n",
    "    for k in range(d):\n",
    "        for j in range(d):\n",
    "            res[k] += w[j]*(x_i**j)\n",
    "        res[k] = 2*(res[k]-y_i)*(x_i**k)\n",
    "    return res\n",
    "\n",
    "def Q_i(d, x_i, y_i, w):\n",
    "    res = 0\n",
    "    for j in range(d):\n",
    "        res += w[j]*(x_i**j)\n",
    "    res = (res-y_i)**2\n",
    "    return res\n",
    "        \n",
    "def Q(d, points, w):\n",
    "    res = 0\n",
    "    for point in points:\n",
    "        res += Q_i(d, point[0], point[1], w)\n",
    "    return res\n",
    "\n",
    "def SGD(d, points, alpha=0.00001, eps=0.1):\n",
    "    w = np.random.rand(d)\n",
    "    while True:\n",
    "        err_before = Q(d, points, w)\n",
    "        for point in points:\n",
    "            w = w - alpha*gradient_Q_i(d, point[0], point[1], w)\n",
    "        err_after = Q(d, points, w)\n",
    "        if np.abs(err_before - err_after) < eps:\n",
    "            break\n",
    "    return w\n"
   ]
  },
  {
   "cell_type": "markdown",
   "metadata": {},
   "source": [
    "Then we define some polynomial, construct slightly perturbed points and run the SGD function on those points:"
   ]
  },
  {
   "cell_type": "code",
   "execution_count": 4,
   "metadata": {},
   "outputs": [
    {
     "name": "stdout",
     "output_type": "stream",
     "text": [
      "[-0.94505448 -1.94480143  0.99607806  0.4955918 ]\n"
     ]
    }
   ],
   "source": [
    "def poly(x):\n",
    "    return -1-2*x+x**2+0.5*(x**3)\n",
    "\n",
    "new_points = []\n",
    "\n",
    "x_points = np.linspace(-5, 5, 1000)\n",
    "y_points = poly(x_points)\n",
    "\n",
    "for i in range(x_points.shape[0]):\n",
    "    perturbation = np.random.rand()*2-1\n",
    "    new_points.append((x_points[i], y_points[i]+perturbation))\n",
    "\n",
    "\n",
    "print(SGD(4, new_points))"
   ]
  },
  {
   "cell_type": "markdown",
   "metadata": {},
   "source": [
    "The resulting polynomial is within a 0.6 range of the original polynomial."
   ]
  },
  {
   "cell_type": "code",
   "execution_count": null,
   "metadata": {},
   "outputs": [],
   "source": []
  }
 ],
 "metadata": {
  "kernelspec": {
   "display_name": "Python 3",
   "language": "python",
   "name": "python3"
  },
  "language_info": {
   "codemirror_mode": {
    "name": "ipython",
    "version": 3
   },
   "file_extension": ".py",
   "mimetype": "text/x-python",
   "name": "python",
   "nbconvert_exporter": "python",
   "pygments_lexer": "ipython3",
   "version": "3.7.4"
  }
 },
 "nbformat": 4,
 "nbformat_minor": 2
}
