{
 "cells": [
  {
   "cell_type": "markdown",
   "metadata": {},
   "source": [
    "# Mining Massive Datasets: Problem Set 1\n",
    "### Due October 28, 2019, 11:59 pm"
   ]
  },
  {
   "cell_type": "markdown",
   "metadata": {},
   "source": [
    "## Exercise 2\n",
    "### b) Give three own programming examples of your choice for transformations (but not for map() or filter()) and three examples for actions (again, of your choice)."
   ]
  },
  {
   "cell_type": "code",
   "execution_count": 1,
   "metadata": {},
   "outputs": [],
   "source": [
    "import findspark\n",
    "findspark.init(\"/usr/local/spark\")"
   ]
  },
  {
   "cell_type": "code",
   "execution_count": 2,
   "metadata": {},
   "outputs": [],
   "source": [
    "from pyspark.sql import SparkSession\n",
    "from pyspark.sql import Row\n",
    "from pyspark.sql.types import StructField, StructType, StringType, LongType"
   ]
  },
  {
   "cell_type": "code",
   "execution_count": 3,
   "metadata": {},
   "outputs": [],
   "source": [
    "spark = SparkSession.builder.master('local').appName('lab1').getOrCreate()\n",
    "sc = spark.sparkContext"
   ]
  },
  {
   "cell_type": "code",
   "execution_count": 4,
   "metadata": {},
   "outputs": [
    {
     "data": {
      "text/plain": [
       "13"
      ]
     },
     "execution_count": 4,
     "metadata": {},
     "output_type": "execute_result"
    }
   ],
   "source": [
    "nums = sc.parallelize([9,1,2,1,4,5,0,1,1,1,2,8,9])\n",
    "\n",
    "# 3 example transformations\n",
    "numsSortByKey = nums \\\n",
    "    .map(lambda num: (num, 1)) \\\n",
    "    .sortByKey()\n",
    "\n",
    "numsReduceByKey = nums \\\n",
    "    .map(lambda num: (num, 1)) \\\n",
    "    .reduceByKey(lambda accum, val: accum+val)\n",
    "\n",
    "numsGroupByKey = nums \\\n",
    "    .map(lambda num: (num,1 )) \\\n",
    "    .groupByKey()\n",
    "\n",
    "# 3 example actions\n",
    "nums.collect()\n",
    "nums.take(2)\n",
    "nums.count()\n"
   ]
  },
  {
   "cell_type": "markdown",
   "metadata": {},
   "source": [
    "## Exercise 4"
   ]
  },
  {
   "cell_type": "markdown",
   "metadata": {},
   "source": [
    "### a)"
   ]
  },
  {
   "cell_type": "code",
   "execution_count": 39,
   "metadata": {},
   "outputs": [],
   "source": [
    "adultsRDD = sc.textFile(\"adult.data\") \\\n",
    "    .map(lambda line: line.split(\",\")) \\\n",
    "    .filter(lambda p: len(p) == 15 ) \\\n",
    "    .map(lambda p: (\n",
    "            p[3].strip(),\n",
    "            p[4].strip(),\n",
    "            p[5].strip(),\n",
    "            p[9].strip(),\n",
    "            p[12].strip(),\n",
    "            p[13].strip(),\n",
    "            p[14].strip()\n",
    "    ))\n",
    "#print(adultsRDD.first())\n",
    "schema = StructType([\n",
    "    StructField(\"education\", StringType(), True),\n",
    "    StructField(\"education_num\", StringType(), True),\n",
    "    StructField(\"marital_status\", StringType(), True),\n",
    "    StructField(\"sex\", StringType(), True),\n",
    "    StructField(\"hours_per_week\", StringType(), True),\n",
    "    StructField(\"native_country\", StringType(), True),\n",
    "    StructField(\"income\", StringType(), True)\n",
    "])\n",
    "dfAdults = spark.createDataFrame(adultsRDD, schema)"
   ]
  },
  {
   "cell_type": "markdown",
   "metadata": {},
   "source": [
    "### b)"
   ]
  },
  {
   "cell_type": "code",
   "execution_count": 41,
   "metadata": {},
   "outputs": [
    {
     "data": {
      "text/plain": [
       "[Row(marital_status='Married-AF-spouse', sex='Female', count=14),\n",
       " Row(marital_status='Married-AF-spouse', sex='Male', count=9),\n",
       " Row(marital_status='Never-married', sex='Male', count=5916),\n",
       " Row(marital_status='Never-married', sex='Female', count=4767),\n",
       " Row(marital_status='Separated', sex='Male', count=394),\n",
       " Row(marital_status='Separated', sex='Female', count=631),\n",
       " Row(marital_status='Widowed', sex='Male', count=168),\n",
       " Row(marital_status='Divorced', sex='Female', count=2672),\n",
       " Row(marital_status='Married-civ-spouse', sex='Female', count=1657),\n",
       " Row(marital_status='Divorced', sex='Male', count=1771),\n",
       " Row(marital_status='Married-spouse-absent', sex='Female', count=205),\n",
       " Row(marital_status='Married-spouse-absent', sex='Male', count=213),\n",
       " Row(marital_status='Widowed', sex='Female', count=825),\n",
       " Row(marital_status='Married-civ-spouse', sex='Male', count=13319)]"
      ]
     },
     "execution_count": 41,
     "metadata": {},
     "output_type": "execute_result"
    }
   ],
   "source": [
    "dfAdults.groupBy(['marital_status', 'sex']).count().collect()"
   ]
  },
  {
   "cell_type": "code",
   "execution_count": 33,
   "metadata": {},
   "outputs": [],
   "source": [
    "from pyspark.sql import *\n",
    "\n",
    "# Create Example Data - Departments and Employees\n",
    "\n",
    "# Create the Departments\n",
    "department1 = Row(id='123456', name='Computer Science')\n",
    "department2 = Row(id='789012', name='Mechanical Engineering')\n",
    "department3 = Row(id='345678', name='Theater and Drama')\n",
    "department4 = Row(id='901234', name='Indoor Recreation')\n",
    "\n",
    "# Create the Employees\n",
    "Employee = Row(\"firstName\", \"lastName\", \"email\", \"salary\")\n",
    "employee1 = Employee('michael', 'armbrust', 'no-reply@berkeley.edu', 100000)\n",
    "employee2 = Employee('xiangrui', 'meng', 'no-reply@stanford.edu', 120000)\n",
    "employee3 = Employee('matei', None, 'no-reply@waterloo.edu', 140000)\n",
    "employee4 = Employee(None, 'wendell', 'no-reply@berkeley.edu', 160000)\n",
    "employee5 = Employee('michael', 'jackson', 'no-reply@neverla.nd', 80000)\n",
    "\n",
    "# Create the DepartmentWithEmployees instances from Departments and Employees\n",
    "departmentWithEmployees1 = Row(department=department1, employees=[employee1, employee2])\n",
    "departmentWithEmployees2 = Row(department=department2, employees=[employee3, employee4])\n",
    "departmentWithEmployees3 = Row(department=department3, employees=[employee5, employee4])\n",
    "departmentWithEmployees4 = Row(department=department4, employees=[employee2, employee3])\n"
   ]
  },
  {
   "cell_type": "code",
   "execution_count": 35,
   "metadata": {},
   "outputs": [
    {
     "data": {
      "text/plain": [
       "2"
      ]
     },
     "execution_count": 35,
     "metadata": {},
     "output_type": "execute_result"
    }
   ],
   "source": [
    "departmentsWithEmployeesSeq1 = [departmentWithEmployees1, departmentWithEmployees2]\n",
    "df1 = spark.createDataFrame(departmentsWithEmployeesSeq1)\n",
    "df1.count()"
   ]
  }
 ],
 "metadata": {
  "kernelspec": {
   "display_name": "Python 3",
   "language": "python",
   "name": "python3"
  },
  "language_info": {
   "codemirror_mode": {
    "name": "ipython",
    "version": 3
   },
   "file_extension": ".py",
   "mimetype": "text/x-python",
   "name": "python",
   "nbconvert_exporter": "python",
   "pygments_lexer": "ipython3",
   "version": "3.7.4"
  }
 },
 "nbformat": 4,
 "nbformat_minor": 2
}
