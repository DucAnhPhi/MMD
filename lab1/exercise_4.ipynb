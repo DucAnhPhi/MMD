{
 "cells": [
  {
   "cell_type": "markdown",
   "metadata": {},
   "source": [
    "# Mining Massive Datasets: Problem Set 1"
   ]
  },
  {
   "cell_type": "markdown",
   "metadata": {},
   "source": [
    "## Exercise 4"
   ]
  },
  {
   "cell_type": "markdown",
   "metadata": {},
   "source": [
    "### a)"
   ]
  },
  {
   "cell_type": "code",
   "execution_count": 2,
   "metadata": {},
   "outputs": [],
   "source": [
    "from pyspark.sql import SparkSession\n",
    "from pyspark.sql import Row\n",
    "from pyspark.sql.functions import *\n",
    "from pyspark.sql.types import *\n",
    "\n",
    "spark = SparkSession.builder.appName(\"adults\").getOrCreate()\n",
    "sc = spark.sparkContext"
   ]
  },
  {
   "cell_type": "code",
   "execution_count": 3,
   "metadata": {},
   "outputs": [
    {
     "name": "stdout",
     "output_type": "stream",
     "text": [
      "+---------+-------------+------------------+------+--------------+--------------+------+\n",
      "|education|education_num|    marital_status|   sex|hours_per_week|native_country|income|\n",
      "+---------+-------------+------------------+------+--------------+--------------+------+\n",
      "|Bachelors|           13|     Never-married|  Male|            40| United-States| <=50K|\n",
      "|Bachelors|           13|Married-civ-spouse|  Male|            13| United-States| <=50K|\n",
      "|  HS-grad|            9|          Divorced|  Male|            40| United-States| <=50K|\n",
      "|     11th|            7|Married-civ-spouse|  Male|            40| United-States| <=50K|\n",
      "|Bachelors|           13|Married-civ-spouse|Female|            40|          Cuba| <=50K|\n",
      "+---------+-------------+------------------+------+--------------+--------------+------+\n",
      "only showing top 5 rows\n",
      "\n"
     ]
    }
   ],
   "source": [
    "adultsRDD = sc.textFile(\"adult.data\") \\\n",
    "    .map(lambda line: line.split(\",\")) \\\n",
    "    .filter(lambda p: len(p) == 15 ) \\\n",
    "    .map(lambda p: (\n",
    "            p[3].strip(),\n",
    "            p[4].strip(),\n",
    "            p[5].strip(),\n",
    "            p[9].strip(),\n",
    "            p[12].strip(),\n",
    "            p[13].strip(),\n",
    "            p[14].strip()\n",
    "    ))\n",
    "\n",
    "schema = StructType([\n",
    "    StructField(\"education\", StringType(), True),\n",
    "    StructField(\"education_num\", StringType(), True),\n",
    "    StructField(\"marital_status\", StringType(), True),\n",
    "    StructField(\"sex\", StringType(), True),\n",
    "    StructField(\"hours_per_week\", StringType(), True),\n",
    "    StructField(\"native_country\", StringType(), True),\n",
    "    StructField(\"income\", StringType(), True)\n",
    "])\n",
    "dfAdults = spark.createDataFrame(adultsRDD, schema)\n",
    "dfAdults.show(5)"
   ]
  },
  {
   "cell_type": "markdown",
   "metadata": {},
   "source": [
    "### b)"
   ]
  },
  {
   "cell_type": "code",
   "execution_count": 4,
   "metadata": {},
   "outputs": [
    {
     "name": "stdout",
     "output_type": "stream",
     "text": [
      "+--------------------+-----+--------------------+\n",
      "|      marital_status|count|               ratio|\n",
      "+--------------------+-----+--------------------+\n",
      "|           Separated|  394|0.018081688848095457|\n",
      "|       Never-married| 5916| 0.27150068838916935|\n",
      "|Married-spouse-ab...|  213|0.009775126204681047|\n",
      "|            Divorced| 1771| 0.08127581459385039|\n",
      "|             Widowed|  168| 0.00770995869664984|\n",
      "|   Married-AF-spouse|    9|4.130335016062414E-4|\n",
      "|  Married-civ-spouse|13319|  0.6112436897659477|\n",
      "+--------------------+-----+--------------------+\n",
      "\n"
     ]
    }
   ],
   "source": [
    "male_count = dfAdults.filter(dfAdults[\"sex\"]==\"Male\").count()\n",
    "df = dfAdults.filter(dfAdults[\"sex\"]==\"Male\").groupBy(\"marital_status\").count()\n",
    "df.withColumn(\"ratio\", df[\"count\"]/male_count).show()"
   ]
  },
  {
   "cell_type": "markdown",
   "metadata": {},
   "source": [
    "### c)"
   ]
  },
  {
   "cell_type": "code",
   "execution_count": 5,
   "metadata": {},
   "outputs": [
    {
     "name": "stdout",
     "output_type": "stream",
     "text": [
      "+--------------+-------------------+\n",
      "|native_country|avg(hours_per_week)|\n",
      "+--------------+-------------------+\n",
      "|   Philippines| 40.083333333333336|\n",
      "|       Germany|  36.57142857142857|\n",
      "|        France|               45.0|\n",
      "|        Greece|               65.0|\n",
      "|        Taiwan|              36.75|\n",
      "|     Nicaragua|               35.0|\n",
      "|          Hong|               40.0|\n",
      "|         India|               38.5|\n",
      "|         China|               33.6|\n",
      "|         Italy|               42.0|\n",
      "|          Cuba|               23.0|\n",
      "|         South| 56.666666666666664|\n",
      "|          Iran|               40.0|\n",
      "|       Ireland|               40.0|\n",
      "|      Thailand|               50.0|\n",
      "|          Laos|               40.0|\n",
      "|   El-Salvador|               40.0|\n",
      "|        Mexico|               35.0|\n",
      "|      Honduras|               60.0|\n",
      "|    Yugoslavia|               40.0|\n",
      "+--------------+-------------------+\n",
      "only showing top 20 rows\n",
      "\n"
     ]
    }
   ],
   "source": [
    "df = dfAdults.filter(dfAdults[\"income\"]==\">50K\").filter(dfAdults[\"sex\"]==\"Female\").withColumn(\"hours_per_week\", dfAdults[\"hours_per_week\"].cast(DoubleType())).groupBy(\"native_country\").avg(\"hours_per_week\")\n",
    "df.show()"
   ]
  },
  {
   "cell_type": "markdown",
   "metadata": {},
   "source": [
    "### d)"
   ]
  },
  {
   "cell_type": "code",
   "execution_count": 14,
   "metadata": {},
   "outputs": [
    {
     "name": "stdout",
     "output_type": "stream",
     "text": [
      "+------+------------------+\n",
      "|income|max(education_num)|\n",
      "+------+------------------+\n",
      "| <=50K|         Doctorate|\n",
      "|  >50K|         Doctorate|\n",
      "+------+------------------+\n",
      "\n"
     ]
    }
   ],
   "source": [
    "education_dict = {\n",
    "    1.0 : \"Preschool\",\n",
    "    2.0 : \"1st-4th\",\n",
    "    3.0 : \"5th-6th\",\n",
    "    4.0 : \"7th-8th\",\n",
    "    5.0 : \"9th\",\n",
    "    6.0 : \"10th\",\n",
    "    7.0 : \"11th\",\n",
    "    8.0 : \"12th\",\n",
    "    9.0 : \"HS-grad\",\n",
    "    10.0 : \"-\",\n",
    "    11.0 : \"-\",\n",
    "    12.0 : \"-\",\n",
    "    13.0 : \"-\",\n",
    "    14.0 : \"-\",\n",
    "    15.0 : \"-\",\n",
    "    16.0 : \"Doctorate\"\n",
    "}\n",
    "education_transform = udf(lambda x : education_dict[x], StringType())\n",
    "df = dfAdults.withColumn(\"education_num\", dfAdults[\"education_num\"].cast(DoubleType())).groupBy(\"income\").max(\"education_num\")\n",
    "df = df.withColumn(\"max(education_num)\", education_transform(df[\"max(education_num)\"]))\n",
    "df.show()"
   ]
  },
  {
   "cell_type": "code",
   "execution_count": 15,
   "metadata": {},
   "outputs": [
    {
     "name": "stdout",
     "output_type": "stream",
     "text": [
      "+------+------------------+\n",
      "|income|min(education_num)|\n",
      "+------+------------------+\n",
      "| <=50K|         Preschool|\n",
      "|  >50K|           1st-4th|\n",
      "+------+------------------+\n",
      "\n"
     ]
    }
   ],
   "source": [
    "df2 = dfAdults.withColumn(\"education_num\", dfAdults[\"education_num\"].cast(DoubleType())).groupBy(\"income\").min(\"education_num\")\n",
    "df2 = df2.withColumn(\"min(education_num)\", education_transform(df2[\"min(education_num)\"]))\n",
    "df2.show()"
   ]
  },
  {
   "cell_type": "code",
   "execution_count": 17,
   "metadata": {},
   "outputs": [
    {
     "name": "stdout",
     "output_type": "stream",
     "text": [
      "+------+------------------+------------------+\n",
      "|income|max(education_num)|min(education_num)|\n",
      "+------+------------------+------------------+\n",
      "| <=50K|         Doctorate|         Preschool|\n",
      "|  >50K|         Doctorate|           1st-4th|\n",
      "+------+------------------+------------------+\n",
      "\n"
     ]
    }
   ],
   "source": [
    "df3 = df.join(df2, \"income\", \"outer\")\n",
    "df3.show()"
   ]
  },
  {
   "cell_type": "code",
   "execution_count": null,
   "metadata": {},
   "outputs": [],
   "source": []
  }
 ],
 "metadata": {
  "kernelspec": {
   "display_name": "Python 3",
   "language": "python",
   "name": "python3"
  },
  "language_info": {
   "codemirror_mode": {
    "name": "ipython",
    "version": 3
   },
   "file_extension": ".py",
   "mimetype": "text/x-python",
   "name": "python",
   "nbconvert_exporter": "python",
   "pygments_lexer": "ipython3",
   "version": "3.7.4"
  }
 },
 "nbformat": 4,
 "nbformat_minor": 2
}
