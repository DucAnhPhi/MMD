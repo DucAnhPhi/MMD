{
 "cells": [
  {
   "cell_type": "markdown",
   "metadata": {},
   "source": [
    "# Problem Set 2 for lecture Mining Massive Datasets\n",
    "\n",
    "## Exercise 1\n",
    "\n",
    "### a)"
   ]
  },
  {
   "cell_type": "code",
   "execution_count": 4,
   "metadata": {},
   "outputs": [
    {
     "name": "stdout",
     "output_type": "stream",
     "text": [
      "angle A-B: 0.13232019670460035\n",
      "angle A-C: 0.1748578990699256\n",
      "angle B-C: 0.28240076879579834\n"
     ]
    }
   ],
   "source": [
    "import numpy as np\n",
    "\n",
    "alpha = 1\n",
    "beta = 1\n",
    "A = np.array([3.06, alpha*500, beta*6])\n",
    "B = np.array([2.68, alpha*320, beta*4])\n",
    "C = np.array([2.92, alpha*640, beta*6])\n",
    "\n",
    "res = np.arccos(np.dot(A, B)/(np.linalg.norm(A)*(np.linalg.norm(B))))*(180/np.pi)\n",
    "print(\"angle A-B:\", res)\n",
    "\n",
    "res = np.arccos(np.dot(A, C)/(np.linalg.norm(A)*(np.linalg.norm(C))))*(180/np.pi)\n",
    "print(\"angle A-C:\", res)\n",
    "\n",
    "res = np.arccos(np.dot(B, C)/(np.linalg.norm(B)*(np.linalg.norm(C))))*(180/np.pi)\n",
    "print(\"angle B-C:\", res)"
   ]
  },
  {
   "cell_type": "markdown",
   "metadata": {},
   "source": [
    "### b)"
   ]
  },
  {
   "cell_type": "code",
   "execution_count": 5,
   "metadata": {},
   "outputs": [
    {
     "name": "stdout",
     "output_type": "stream",
     "text": [
      "angle A-B: 7.7433676747857705\n",
      "angle A-C: 7.451623812439634\n",
      "angle B-C: 14.262328442796376\n"
     ]
    }
   ],
   "source": [
    "alpha = 0.01\n",
    "beta = 0.5\n",
    "A = np.array([3.06, alpha*500, beta*6])\n",
    "B = np.array([2.68, alpha*320, beta*4])\n",
    "C = np.array([2.92, alpha*640, beta*6])\n",
    "\n",
    "res = np.arccos(np.dot(A, B)/(np.linalg.norm(A)*(np.linalg.norm(B))))*(180/np.pi)\n",
    "print(\"angle A-B:\", res)\n",
    "\n",
    "res = np.arccos(np.dot(A, C)/(np.linalg.norm(A)*(np.linalg.norm(C))))*(180/np.pi)\n",
    "print(\"angle A-C:\", res)\n",
    "\n",
    "res = np.arccos(np.dot(B, C)/(np.linalg.norm(B)*(np.linalg.norm(C))))*(180/np.pi)\n",
    "print(\"angle B-C:\", res)"
   ]
  },
  {
   "cell_type": "markdown",
   "metadata": {},
   "source": [
    "### c)"
   ]
  },
  {
   "cell_type": "code",
   "execution_count": 6,
   "metadata": {},
   "outputs": [
    {
     "name": "stdout",
     "output_type": "stream",
     "text": [
      "alpha: 0.002054794520547945\n",
      "beta: 0.1875\n",
      "angle A-B: 6.071648921036559\n",
      "angle A-C: 5.368226522288894\n",
      "angle B-C: 10.812325507058954\n"
     ]
    }
   ],
   "source": [
    "alpha = 1/np.average(np.array([500,320,640]))\n",
    "beta = 1/np.average(np.array([6,4,6]))\n",
    "print(\"alpha:\", alpha)\n",
    "print(\"beta:\", beta)\n",
    "A = np.array([3.06, alpha*500, beta*6])\n",
    "B = np.array([2.68, alpha*320, beta*4])\n",
    "C = np.array([2.92, alpha*640, beta*6])\n",
    "\n",
    "res = np.arccos(np.dot(A, B)/(np.linalg.norm(A)*(np.linalg.norm(B))))*(180/np.pi)\n",
    "print(\"angle A-B:\", res)\n",
    "\n",
    "res = np.arccos(np.dot(A, C)/(np.linalg.norm(A)*(np.linalg.norm(C))))*(180/np.pi)\n",
    "print(\"angle A-C:\", res)\n",
    "\n",
    "res = np.arccos(np.dot(B, C)/(np.linalg.norm(B)*(np.linalg.norm(C))))*(180/np.pi)\n",
    "print(\"angle B-C:\", res)"
   ]
  },
  {
   "cell_type": "markdown",
   "metadata": {},
   "source": [
    "## Exercise 3\n",
    "\n",
    "### a)\n"
   ]
  },
  {
   "cell_type": "code",
   "execution_count": 9,
   "metadata": {},
   "outputs": [
    {
     "name": "stdout",
     "output_type": "stream",
     "text": [
      "Jaccard_distance A-B: 0.5\n",
      "Jaccard_distance A-C: 0.5\n",
      "Jaccard_distance B-C: 0.5\n"
     ]
    }
   ],
   "source": [
    "A = np.array([4,5,0,5,1,0,3,2])\n",
    "B = np.array([0,3,4,3,1,2,1,0])\n",
    "C = np.array([2,0,1,3,0,4,5,3])\n",
    "\n",
    "A = A.astype(bool).astype(int)\n",
    "B = B.astype(bool).astype(int)\n",
    "C = C.astype(bool).astype(int)\n",
    "\n",
    "res = 1 - np.sum(np.bitwise_and(A,B))/np.sum(np.bitwise_or(A,B))\n",
    "print(\"Jaccard_distance A-B:\", res)\n",
    "\n",
    "res = 1 - np.sum(np.bitwise_and(A,C))/np.sum(np.bitwise_or(A,C))\n",
    "print(\"Jaccard_distance A-C:\", res)\n",
    "\n",
    "res = 1 - np.sum(np.bitwise_and(B,C))/np.sum(np.bitwise_or(B,C))\n",
    "print(\"Jaccard_distance B-C:\", res)"
   ]
  },
  {
   "cell_type": "markdown",
   "metadata": {},
   "source": [
    "### b)"
   ]
  },
  {
   "cell_type": "code",
   "execution_count": 10,
   "metadata": {},
   "outputs": [
    {
     "name": "stdout",
     "output_type": "stream",
     "text": [
      "cos_distance A-B: 0.6010407640085653\n",
      "cos_distance A-C: 0.6149186938124421\n",
      "cos_distance B-C: 0.5138701197773616\n"
     ]
    }
   ],
   "source": [
    "A = np.array([4,5,0,5,1,0,3,2])\n",
    "B = np.array([0,3,4,3,1,2,1,0])\n",
    "C = np.array([2,0,1,3,0,4,5,3])\n",
    "\n",
    "res = np.dot(A, B)/(np.linalg.norm(A)*(np.linalg.norm(B)))\n",
    "print(\"cos_distance A-B:\", res)\n",
    "\n",
    "res = np.dot(A, C)/(np.linalg.norm(A)*(np.linalg.norm(C)))\n",
    "print(\"cos_distance A-C:\", res)\n",
    "\n",
    "res = np.dot(B, C)/(np.linalg.norm(B)*(np.linalg.norm(C)))\n",
    "print(\"cos_distance B-C:\", res)"
   ]
  },
  {
   "cell_type": "markdown",
   "metadata": {},
   "source": [
    "### c)"
   ]
  },
  {
   "cell_type": "code",
   "execution_count": 11,
   "metadata": {},
   "outputs": [
    {
     "name": "stdout",
     "output_type": "stream",
     "text": [
      "Jaccard_distance A-B: 0.6\n",
      "Jaccard_distance A-C: 0.6666666666666667\n",
      "Jaccard_distance B-C: 0.8333333333333334\n"
     ]
    }
   ],
   "source": [
    "A_original = np.array([4,5,0,5,1,0,3,2])\n",
    "B_original = np.array([0,3,4,3,1,2,1,0])\n",
    "C_original = np.array([2,0,1,3,0,4,5,3])\n",
    "\n",
    "A[A_original>=3] = 1\n",
    "A[A_original<=2] = 0 \n",
    "B[B_original>=3] = 1\n",
    "B[B_original<=2] = 0 \n",
    "C[C_original>=3] = 1\n",
    "C[C_original<=2] = 0 \n",
    "\n",
    "res = 1 - np.sum(np.bitwise_and(A,B))/np.sum(np.bitwise_or(A,B))\n",
    "print(\"Jaccard_distance A-B:\", res)\n",
    "\n",
    "res = 1 - np.sum(np.bitwise_and(A,C))/np.sum(np.bitwise_or(A,C))\n",
    "print(\"Jaccard_distance A-C:\", res)\n",
    "\n",
    "res = 1 - np.sum(np.bitwise_and(B,C))/np.sum(np.bitwise_or(B,C))\n",
    "print(\"Jaccard_distance B-C:\", res)"
   ]
  },
  {
   "cell_type": "markdown",
   "metadata": {},
   "source": [
    "### d)"
   ]
  },
  {
   "cell_type": "code",
   "execution_count": 12,
   "metadata": {},
   "outputs": [
    {
     "name": "stdout",
     "output_type": "stream",
     "text": [
      "cos_distance A-B: 0.5773502691896258\n",
      "cos_distance A-C: 0.5\n",
      "cos_distance B-C: 0.2886751345948129\n"
     ]
    }
   ],
   "source": [
    "res = np.dot(A, B)/(np.linalg.norm(A)*(np.linalg.norm(B)))\n",
    "print(\"cos_distance A-B:\", res)\n",
    "\n",
    "res = np.dot(A, C)/(np.linalg.norm(A)*(np.linalg.norm(C)))\n",
    "print(\"cos_distance A-C:\", res)\n",
    "\n",
    "res = np.dot(B, C)/(np.linalg.norm(B)*(np.linalg.norm(C)))\n",
    "print(\"cos_distance B-C:\", res)"
   ]
  },
  {
   "cell_type": "markdown",
   "metadata": {},
   "source": [
    "### e)"
   ]
  },
  {
   "cell_type": "code",
   "execution_count": 14,
   "metadata": {},
   "outputs": [],
   "source": [
    "A = np.array([4,5,0,5,1,0,3,2],  dtype=float)\n",
    "B = np.array([0,3,4,3,1,2,1,0],  dtype=float)\n",
    "C = np.array([2,0,1,3,0,4,5,3],  dtype=float)\n",
    "\n",
    "A[A!=0] += -np.average(A)\n",
    "B[B!=0] += -np.average(B)\n",
    "C[C!=0] += -np.average(C)"
   ]
  },
  {
   "cell_type": "markdown",
   "metadata": {},
   "source": [
    "### f)"
   ]
  },
  {
   "cell_type": "code",
   "execution_count": 15,
   "metadata": {},
   "outputs": [
    {
     "name": "stdout",
     "output_type": "stream",
     "text": [
      "cos_distance A-B: 0.5465040408511785\n",
      "cos_distance A-C: 0.16340829138365012\n",
      "cos_distance B-C: -0.31256152042413066\n"
     ]
    }
   ],
   "source": [
    "res = np.dot(A, B)/(np.linalg.norm(A)*(np.linalg.norm(B)))\n",
    "print(\"cos_distance A-B:\", res)\n",
    "\n",
    "res = np.dot(A, C)/(np.linalg.norm(A)*(np.linalg.norm(C)))\n",
    "print(\"cos_distance A-C:\", res)\n",
    "\n",
    "res = np.dot(B, C)/(np.linalg.norm(B)*(np.linalg.norm(C)))\n",
    "print(\"cos_distance B-C:\", res)"
   ]
  },
  {
   "cell_type": "markdown",
   "metadata": {},
   "source": [
    "## Exercise 4\n",
    "\n",
    "### a)"
   ]
  },
  {
   "cell_type": "markdown",
   "metadata": {},
   "source": [
    "The students are the users and the professors are the items. The users could give a numerical rating or star rating to have a higher resolution than you would have with a simple \"like\" system. Additional buttons could be introduced to indicate something like \"recommend for thesis\" if the professor is particular suited as a supervisor during a thesis. This scenario lends itself more to a collaborative filtering approach, since feature selection in this case is non-inutitive."
   ]
  },
  {
   "cell_type": "markdown",
   "metadata": {},
   "source": [
    "### b)"
   ]
  },
  {
   "cell_type": "markdown",
   "metadata": {},
   "source": [
    "The artists are the users and the artworks are the items. The users could give a numerical rating or a star rating, just like in the above scenario. Again, this scenario also lends itself for additional buttons like a \"favorite\" button that can serve as an additional factor for determining particular tastes. In this case a content based approach could be used if one constrained the artworks to for example particular styles etc. which could be used as additional features besides the artist. However, a collaborative filtering approach is most likely better suited"
   ]
  },
  {
   "cell_type": "markdown",
   "metadata": {},
   "source": [
    "### c)\n",
    "\n"
   ]
  },
  {
   "cell_type": "markdown",
   "metadata": {},
   "source": [
    "The people on the platform are the users and the items are the users themselves. In this case we already have a \"like\" system for rating. This particular scenario fits naturally into the content based approach because similarity should be calculated based on physical features as well as hobbies/tastes etc. The special thing in this scenario is the hidden profile of the dream partner. In this case the profile used to calculate similarity to items (users) would be a combination of the dream profile and the usual weighted average of the items (users) already rated, to introduce a bias towards the dream profile."
   ]
  },
  {
   "cell_type": "code",
   "execution_count": null,
   "metadata": {},
   "outputs": [],
   "source": []
  }
 ],
 "metadata": {
  "kernelspec": {
   "display_name": "Python 3",
   "language": "python",
   "name": "python3"
  },
  "language_info": {
   "codemirror_mode": {
    "name": "ipython",
    "version": 3
   },
   "file_extension": ".py",
   "mimetype": "text/x-python",
   "name": "python",
   "nbconvert_exporter": "python",
   "pygments_lexer": "ipython3",
   "version": "3.7.4"
  }
 },
 "nbformat": 4,
 "nbformat_minor": 2
}
