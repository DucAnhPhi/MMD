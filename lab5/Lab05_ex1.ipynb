{
 "cells": [
  {
   "cell_type": "markdown",
   "metadata": {},
   "source": [
    "# Mining Massive Datasets: Solutions to Problem Set 5\n",
    "\n",
    "Duc Anh, Phi 3550091\n",
    "\n",
    "Mustafa, Ibrahim 3284705\n",
    "\n",
    "Amritpal, Kaur 3532964\n",
    "\n",
    "## Exercise 1\n"
   ]
  },
  {
   "cell_type": "code",
   "execution_count": 1,
   "metadata": {},
   "outputs": [],
   "source": [
    "import numpy as np\n",
    "\n",
    "links = np.loadtxt('web-Stanford_small.txt', delimiter='\\t', dtype=\"int\")\n",
    "\n",
    "links_out = dict()\n",
    "links_in = dict()\n",
    "\n",
    "for l in links:\n",
    "    if l[0] in links_out:\n",
    "        links_out[l[0]].append(l[1])\n",
    "    else:\n",
    "        links_out[l[0]] = [l[1]]\n",
    "    \n",
    "    if l[1] in links_in:\n",
    "        links_in[l[1]].append(l[0])\n",
    "    else:\n",
    "        links_in[l[1]] = [l[0]]\n",
    "        \n",
    "    if l[0] not in links_in:\n",
    "        links_in[l[0]] = []\n",
    "    \n",
    "    if l[1] not in links_out:\n",
    "        links_out[l[1]] = []"
   ]
  },
  {
   "cell_type": "code",
   "execution_count": 205,
   "metadata": {},
   "outputs": [],
   "source": [
    "def init_M(links_in, links_out, beta):\n",
    "    N = len(links_in)\n",
    "    M = np.full((N,N), 0, dtype=float)\n",
    "    keys = sorted(list(links_out.keys()))\n",
    "    for i, key in enumerate(keys):\n",
    "        in_links = links_in[key]\n",
    "        if len(in_links) == 0:\n",
    "            out_links = links_out[key]\n",
    "            continue\n",
    "        out_links = links_out[key]\n",
    "        if len(out_links) != 0:\n",
    "            for l in out_links:\n",
    "                j = keys.index(l)\n",
    "                M[j,i] = beta/len(out_links)\n",
    "    return M"
   ]
  },
  {
   "cell_type": "code",
   "execution_count": 225,
   "metadata": {},
   "outputs": [],
   "source": [
    "def get_page_rank(links_in, links_out, beta = 0.8, iterations = 5):\n",
    "    N = len(links_in)\n",
    "    M = init_M(links_in, links_out, beta)\n",
    "    keys = sorted(list(links_in.keys()))\n",
    "    # initialize ratings\n",
    "    r_temp = np.full((N,1), 1/N)\n",
    "    for r in range(iterations):\n",
    "        r_temp = M.dot(r_temp)\n",
    "        s = np.sum(r_temp)\n",
    "        res = (1 - beta * s) / N\n",
    "        r_temp = r_temp + res\n",
    "    return r_temp"
   ]
  },
  {
   "cell_type": "code",
   "execution_count": 226,
   "metadata": {},
   "outputs": [
    {
     "name": "stdout",
     "output_type": "stream",
     "text": [
      "[[0.00054659]\n",
      " [0.02738859]\n",
      " [0.00054659]\n",
      " ...\n",
      " [0.00056211]\n",
      " [0.00056533]\n",
      " [0.00060153]]\n"
     ]
    }
   ],
   "source": [
    "pr = get_page_rank(links_in, links_out)\n",
    "print(pr)"
   ]
  }
 ],
 "metadata": {
  "kernelspec": {
   "display_name": "Python 3",
   "language": "python",
   "name": "python3"
  },
  "language_info": {
   "codemirror_mode": {
    "name": "ipython",
    "version": 3
   },
   "file_extension": ".py",
   "mimetype": "text/x-python",
   "name": "python",
   "nbconvert_exporter": "python",
   "pygments_lexer": "ipython3",
   "version": "3.7.4"
  }
 },
 "nbformat": 4,
 "nbformat_minor": 2
}
